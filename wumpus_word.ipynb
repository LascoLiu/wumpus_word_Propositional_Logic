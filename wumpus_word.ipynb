{
 "cells": [
  {
   "cell_type": "code",
   "execution_count": 85,
   "id": "5261b839",
   "metadata": {},
   "outputs": [],
   "source": [
    "from utils import *\n",
    "from logic import *\n",
    "from notebook import psource"
   ]
  },
  {
   "cell_type": "markdown",
   "id": "00ec2e04",
   "metadata": {},
   "source": [
    "### Questuon1 （Propositional Logic）"
   ]
  },
  {
   "cell_type": "markdown",
   "id": "5089f47c",
   "metadata": {},
   "source": [
    "#### 1\n",
    "* create a PropKB for the wumpus world"
   ]
  },
  {
   "cell_type": "code",
   "execution_count": 86,
   "id": "128b09ec",
   "metadata": {},
   "outputs": [],
   "source": [
    "wumpus_world = PropKB()"
   ]
  },
  {
   "cell_type": "markdown",
   "id": "2d80c8d7",
   "metadata": {},
   "source": [
    "* We define the symbols we use in our clauses.\n",
    "** 𝑃𝑥,𝑦  is true if there is a pit in [x, y].\n",
    "** 𝐵𝑥,𝑦  is true if the agent senses breeze in [x, y].\n",
    "** W𝑥,𝑦  is true if there is a wumpus in [x, y].\n",
    "** S𝑥,𝑦  is true if the agent senses breeze in [x, y].\n",
    "** G𝑥,𝑦  is true if there Gold in [x, y]."
   ]
  },
  {
   "cell_type": "code",
   "execution_count": 87,
   "id": "8a003a13",
   "metadata": {},
   "outputs": [],
   "source": [
    "P11,B11,W11,S11,G11 = expr('P11,B11,W11,S11,G11')"
   ]
  },
  {
   "cell_type": "markdown",
   "id": "191487bc",
   "metadata": {},
   "source": [
    "* now, agent know nothing.but he must go the fist step which he choose A11"
   ]
  },
  {
   "cell_type": "markdown",
   "id": "737080c8",
   "metadata": {},
   "source": [
    "* at A11, agent found he is luckey,he is safe"
   ]
  },
  {
   "cell_type": "markdown",
   "id": "c0362afd",
   "metadata": {},
   "source": [
    "* now agent at [1,1] which is safe. so tell kb [1,1] is safe"
   ]
  },
  {
   "cell_type": "code",
   "execution_count": 88,
   "id": "b2a88323",
   "metadata": {},
   "outputs": [],
   "source": [
    "wumpus_world.tell(~P11) \n",
    "wumpus_world.tell(~B11)\n",
    "wumpus_world.tell(~W11)\n",
    "wumpus_world.tell(~S11)\n",
    "wumpus_world.tell(~G11)"
   ]
  },
  {
   "cell_type": "markdown",
   "id": "d26dac0e",
   "metadata": {},
   "source": [
    "* But it can feel breese at [1,2]\n",
    "* tell kb there are breeze in [1,2]"
   ]
  },
  {
   "cell_type": "code",
   "execution_count": 89,
   "id": "bbe04b24",
   "metadata": {},
   "outputs": [],
   "source": [
    "B12, B21, S21, W12, G12= expr('B12,B21,S21,W12,G12')\n",
    "wumpus_world.tell(B12)\n",
    "wumpus_world.tell(~P12)\n",
    "wumpus_world.tell(~W12)\n",
    "wumpus_world.tell(~S12)\n",
    "wumpus_world.tell(~G12)"
   ]
  },
  {
   "cell_type": "markdown",
   "id": "8c1b440b",
   "metadata": {},
   "source": [
    "* it can feel breese at [2,1] and stench in [2,1]\n",
    "* tell kb there is  breeze in [2,1] and stench in [2,1]"
   ]
  },
  {
   "cell_type": "code",
   "execution_count": 90,
   "id": "540b28cc",
   "metadata": {},
   "outputs": [],
   "source": [
    "G21 = expr('G21')\n",
    "\n",
    "wumpus_world.tell(B21)\n",
    "wumpus_world.tell(S21)\n",
    "wumpus_world.tell(~P21)\n",
    "wumpus_world.tell(~W21)\n",
    "wumpus_world.tell(~G21)"
   ]
  },
  {
   "cell_type": "markdown",
   "id": "37141f9a",
   "metadata": {},
   "source": [
    "* define the relationship of pit and breeze"
   ]
  },
  {
   "cell_type": "code",
   "execution_count": 91,
   "id": "d4092646",
   "metadata": {},
   "outputs": [],
   "source": [
    "P13, P22, P31 = expr('P13, P22, P31')\n",
    "wumpus_world.tell(B21 | '<=>' | ((P22 | P31 | P11)))\n",
    "wumpus_world.tell(B12 | '<=>' | ((P22 | P13 | P11)))"
   ]
  },
  {
   "cell_type": "markdown",
   "id": "1d8165e2",
   "metadata": {},
   "source": [
    "* define the relationship of stench and wumpus"
   ]
  },
  {
   "cell_type": "code",
   "execution_count": 92,
   "id": "9a0e2a69",
   "metadata": {},
   "outputs": [],
   "source": [
    "W22, W31 = expr('W22, W31')\n",
    "wumpus_world.tell(S21 | '<=>' | ((W22 | W31 | W11)))"
   ]
  },
  {
   "cell_type": "code",
   "execution_count": 93,
   "id": "e3ad15a8",
   "metadata": {},
   "outputs": [
    {
     "data": {
      "text/plain": [
       "[~P11,\n",
       " ~B11,\n",
       " ~W11,\n",
       " ~S11,\n",
       " ~G11,\n",
       " B12,\n",
       " ~P12,\n",
       " ~W12,\n",
       " ~S12,\n",
       " ~G12,\n",
       " B21,\n",
       " S21,\n",
       " ~P21,\n",
       " ~W21,\n",
       " ~G21,\n",
       " (~P22 | B21),\n",
       " (~P31 | B21),\n",
       " (~P11 | B21),\n",
       " (P22 | P31 | P11 | ~B21),\n",
       " (~P22 | B12),\n",
       " (~P13 | B12),\n",
       " (~P11 | B12),\n",
       " (P22 | P13 | P11 | ~B12),\n",
       " (~W22 | S21),\n",
       " (~W31 | S21),\n",
       " (~W11 | S21),\n",
       " (W22 | W31 | W11 | ~S21)]"
      ]
     },
     "execution_count": 93,
     "metadata": {},
     "output_type": "execute_result"
    }
   ],
   "source": [
    "wumpus_world.clauses"
   ]
  },
  {
   "cell_type": "markdown",
   "id": "61ae6bd2",
   "metadata": {},
   "source": [
    "This is the status which agent at [1,1].  \n",
    "and the relationship when agent feel breeze and stench"
   ]
  },
  {
   "cell_type": "markdown",
   "id": "2c0ac958",
   "metadata": {},
   "source": [
    "#### 2\n",
    "* use method ask_if_true() ask whether there are pits in P31 | P22 | P11 |P13"
   ]
  },
  {
   "cell_type": "markdown",
   "id": "c0274200",
   "metadata": {},
   "source": [
    "* at this stage, kb inferred that there is no pit in [1,1] "
   ]
  },
  {
   "cell_type": "code",
   "execution_count": 94,
   "id": "3c6dcf36",
   "metadata": {},
   "outputs": [
    {
     "data": {
      "text/plain": [
       "(False, False)"
      ]
     },
     "execution_count": 94,
     "metadata": {},
     "output_type": "execute_result"
    }
   ],
   "source": [
    "wumpus_world.ask_if_true(~P31),wumpus_world.ask_if_true(P31)"
   ]
  },
  {
   "cell_type": "code",
   "execution_count": 95,
   "id": "9f7b5e17",
   "metadata": {},
   "outputs": [
    {
     "data": {
      "text/plain": [
       "(False, False)"
      ]
     },
     "execution_count": 95,
     "metadata": {},
     "output_type": "execute_result"
    }
   ],
   "source": [
    "wumpus_world.ask_if_true(~P13),wumpus_world.ask_if_true(P13)"
   ]
  },
  {
   "cell_type": "code",
   "execution_count": 96,
   "id": "4f1875e3",
   "metadata": {},
   "outputs": [
    {
     "data": {
      "text/plain": [
       "(False, False)"
      ]
     },
     "execution_count": 96,
     "metadata": {},
     "output_type": "execute_result"
    }
   ],
   "source": [
    "wumpus_world.ask_if_true(~P22),wumpus_world.ask_if_true(P22)"
   ]
  },
  {
   "cell_type": "code",
   "execution_count": 97,
   "id": "e278cff5",
   "metadata": {},
   "outputs": [
    {
     "data": {
      "text/plain": [
       "(True, False)"
      ]
     },
     "execution_count": 97,
     "metadata": {},
     "output_type": "execute_result"
    }
   ],
   "source": [
    "wumpus_world.ask_if_true(~P11),wumpus_world.ask_if_true(P11)"
   ]
  },
  {
   "cell_type": "markdown",
   "id": "d691ecc5",
   "metadata": {},
   "source": [
    "* I choose the first move to [2,1], for [2,1] is breeze and stench which means [2,1] is safe\n"
   ]
  },
  {
   "cell_type": "markdown",
   "id": "0e916b65",
   "metadata": {},
   "source": [
    "* kb told agent [1,1] is safe,and agent can feel [2,1] has breeze and stench.\n",
    "* so [2,1] has no pit and wumpus definitely.\n",
    "* so agent choose move to [2,1] is logical."
   ]
  },
  {
   "cell_type": "markdown",
   "id": "a90ba520",
   "metadata": {},
   "source": [
    "#### 3\n",
    "* now agent is in [2,1]\n",
    "* agent know that there is stench in [2,1]. so [1,1],[2,2],[3,1] may have wumpus. \n",
    "* tell kb"
   ]
  },
  {
   "cell_type": "markdown",
   "id": "b91a15c0",
   "metadata": {},
   "source": [
    "* KB  inferred that wumpus only can in the W22 OR W31 by the following coding"
   ]
  },
  {
   "cell_type": "code",
   "execution_count": 98,
   "id": "54d0c4ff",
   "metadata": {},
   "outputs": [
    {
     "data": {
      "text/plain": [
       "(True, False)"
      ]
     },
     "execution_count": 98,
     "metadata": {},
     "output_type": "execute_result"
    }
   ],
   "source": [
    "wumpus_world.ask_if_true(~W11),wumpus_world.ask_if_true(W11)"
   ]
  },
  {
   "cell_type": "code",
   "execution_count": 99,
   "id": "a398442c",
   "metadata": {},
   "outputs": [
    {
     "data": {
      "text/plain": [
       "(False, False)"
      ]
     },
     "execution_count": 99,
     "metadata": {},
     "output_type": "execute_result"
    }
   ],
   "source": [
    "wumpus_world.ask_if_true(~W22),wumpus_world.ask_if_true(W22)"
   ]
  },
  {
   "cell_type": "code",
   "execution_count": 100,
   "id": "c6180644",
   "metadata": {},
   "outputs": [
    {
     "data": {
      "text/plain": [
       "(False, False)"
      ]
     },
     "execution_count": 100,
     "metadata": {},
     "output_type": "execute_result"
    }
   ],
   "source": [
    "wumpus_world.ask_if_true(~W31),wumpus_world.ask_if_true(W31)"
   ]
  },
  {
   "cell_type": "markdown",
   "id": "2e52ccf0",
   "metadata": {},
   "source": [
    "* according the inference above, kb are not sure whether there is a pit in [2,2] or [3,1] and whether there is a wumpus in [2,2] or [3,1]\n",
    "* so tring to move to [2,2] or [3,1] is dangerous\n",
    "* so we need to [1,1] and looking for other way"
   ]
  },
  {
   "cell_type": "markdown",
   "id": "63386b0a",
   "metadata": {},
   "source": [
    "#### 4\n",
    "* the agent reached square (1,2) as part of its journey after visiting (2,1) and backing to [1,1]"
   ]
  },
  {
   "cell_type": "markdown",
   "id": "73788098",
   "metadata": {},
   "source": [
    "* stand at [1,2],agent didn't feel stench, so [1,3] and [2,2] must have no wumpus"
   ]
  },
  {
   "cell_type": "code",
   "execution_count": 101,
   "id": "82af8c1e",
   "metadata": {},
   "outputs": [],
   "source": [
    "W13 = expr('W13')\n",
    "wumpus_world.tell(~S12 | '<=>' | ((~W22 & ~W13)))"
   ]
  },
  {
   "cell_type": "markdown",
   "id": "bd3f1841",
   "metadata": {},
   "source": [
    "* if there is no stench in [2,1], [2,2] & [1,3] must no wumpus"
   ]
  },
  {
   "cell_type": "code",
   "execution_count": 103,
   "id": "0cde7dcb",
   "metadata": {},
   "outputs": [
    {
     "data": {
      "text/plain": [
       "(False, True)"
      ]
     },
     "execution_count": 103,
     "metadata": {},
     "output_type": "execute_result"
    }
   ],
   "source": [
    "wumpus_world.ask_if_true(W13),wumpus_world.ask_if_true(~W13)"
   ]
  },
  {
   "cell_type": "code",
   "execution_count": 104,
   "id": "575dddc4",
   "metadata": {},
   "outputs": [
    {
     "data": {
      "text/plain": [
       "(False, True)"
      ]
     },
     "execution_count": 104,
     "metadata": {},
     "output_type": "execute_result"
    }
   ],
   "source": [
    "wumpus_world.ask_if_true(W22),wumpus_world.ask_if_true(~W22)"
   ]
  },
  {
   "cell_type": "markdown",
   "id": "42e7c822",
   "metadata": {},
   "source": [
    "* see now kb tell agent there is a wumpus in [3,1]"
   ]
  },
  {
   "cell_type": "code",
   "execution_count": 105,
   "id": "9088c6e3",
   "metadata": {},
   "outputs": [
    {
     "data": {
      "text/plain": [
       "(True, False)"
      ]
     },
     "execution_count": 105,
     "metadata": {},
     "output_type": "execute_result"
    }
   ],
   "source": [
    "wumpus_world.ask_if_true(W31),wumpus_world.ask_if_true(~W31)"
   ]
  },
  {
   "cell_type": "markdown",
   "id": "467e8931",
   "metadata": {},
   "source": [
    "* make sure this is the only one wumpus agent need ask KB that is there others wumpus except [3,1]\n",
    "* due to it costs a lot of time to calculate every hole, I just let agent asked where it already move and related holes."
   ]
  },
  {
   "cell_type": "code",
   "execution_count": 107,
   "id": "3bc0170f",
   "metadata": {
    "scrolled": true
   },
   "outputs": [
    {
     "data": {
      "text/plain": [
       "(False, True)"
      ]
     },
     "execution_count": 107,
     "metadata": {},
     "output_type": "execute_result"
    }
   ],
   "source": [
    "wumpus_world.ask_if_true(W11),wumpus_world.ask_if_true(~W11)"
   ]
  },
  {
   "cell_type": "code",
   "execution_count": 108,
   "id": "abe4ae36",
   "metadata": {
    "scrolled": true
   },
   "outputs": [
    {
     "data": {
      "text/plain": [
       "(False, True)"
      ]
     },
     "execution_count": 108,
     "metadata": {},
     "output_type": "execute_result"
    }
   ],
   "source": [
    "wumpus_world.ask_if_true(W22),wumpus_world.ask_if_true(~W22)"
   ]
  },
  {
   "cell_type": "code",
   "execution_count": 109,
   "id": "094e4b73",
   "metadata": {
    "scrolled": true
   },
   "outputs": [
    {
     "data": {
      "text/plain": [
       "(False, True)"
      ]
     },
     "execution_count": 109,
     "metadata": {},
     "output_type": "execute_result"
    }
   ],
   "source": [
    "wumpus_world.ask_if_true(W21),wumpus_world.ask_if_true(~W21)"
   ]
  },
  {
   "cell_type": "code",
   "execution_count": 110,
   "id": "6540997c",
   "metadata": {
    "scrolled": true
   },
   "outputs": [
    {
     "data": {
      "text/plain": [
       "(False, True)"
      ]
     },
     "execution_count": 110,
     "metadata": {},
     "output_type": "execute_result"
    }
   ],
   "source": [
    "wumpus_world.ask_if_true(W12),wumpus_world.ask_if_true(~W12)"
   ]
  },
  {
   "cell_type": "code",
   "execution_count": 111,
   "id": "6443feec",
   "metadata": {
    "scrolled": true
   },
   "outputs": [
    {
     "data": {
      "text/plain": [
       "(False, True)"
      ]
     },
     "execution_count": 111,
     "metadata": {},
     "output_type": "execute_result"
    }
   ],
   "source": [
    "wumpus_world.ask_if_true(W13),wumpus_world.ask_if_true(~W13)"
   ]
  },
  {
   "cell_type": "markdown",
   "id": "339d9aa4",
   "metadata": {},
   "source": [
    "---\n",
    "we can see kb inferred that there is no another wumpus in other hole\n",
    "until here, agent find the wumpus which is in [3,1]"
   ]
  },
  {
   "cell_type": "markdown",
   "id": "79695572",
   "metadata": {},
   "source": [
    "---"
   ]
  },
  {
   "cell_type": "markdown",
   "id": "cd89f800",
   "metadata": {},
   "source": [
    "## Question 2 (First Order Logic). \n",
    "Consider the following paragraph which you will use to create a FolKB (a knowledgebase in First Order Logic) using the code in the AIMA-Python Knowledge and Reasoning module:\n",
    "         \n",
    "“Boris Johnson is the prime minister of UK. Sanna Marin is the prime minister of Finland. Videos of\n",
    "parties at the Downing Street attended by Boris Johnson were publicly leaked. Videos of private\n",
    "parties attended by Sanna Miran were publicly leaked. The Downing Street parties violated Covid-19\n",
    "lockdown laws. Social gatherings violating Covid-19 lockdown laws are illegal. The prime minister of\n",
    "a country who attends illegal parties is disapproved by the citizens of that country. The prime\n",
    "minister of a country who is disapproved by its citizens loses their trust. The prime minister of a\n",
    "country resigns from the prime minister post after losing its citizens' trust.”"
   ]
  },
  {
   "cell_type": "code",
   "execution_count": 1,
   "id": "4d216d91",
   "metadata": {},
   "outputs": [],
   "source": [
    "clauses = []"
   ]
  },
  {
   "cell_type": "markdown",
   "id": "626700a2",
   "metadata": {},
   "source": [
    "### Boris Johnson is the prime minister of UK\n",
    "\n",
    "* Pri_Minister(x,y): x is who, y is a country \n",
    "* Country(y): y is a COUNTRY\n",
    "---\n"
   ]
  },
  {
   "cell_type": "code",
   "execution_count": null,
   "id": "065007bb",
   "metadata": {},
   "outputs": [],
   "source": []
  },
  {
   "cell_type": "code",
   "execution_count": 2,
   "id": "f9a1b302",
   "metadata": {},
   "outputs": [
    {
     "ename": "NameError",
     "evalue": "name 'expr' is not defined",
     "output_type": "error",
     "traceback": [
      "\u001b[0;31m---------------------------------------------------------------------------\u001b[0m",
      "\u001b[0;31mNameError\u001b[0m                                 Traceback (most recent call last)",
      "Input \u001b[0;32mIn [2]\u001b[0m, in \u001b[0;36m<cell line: 1>\u001b[0;34m()\u001b[0m\n\u001b[0;32m----> 1\u001b[0m clauses\u001b[38;5;241m.\u001b[39mappend(\u001b[43mexpr\u001b[49m(\u001b[38;5;124m\"\u001b[39m\u001b[38;5;124mPri_Minister(Boris_Johnson,UK)\u001b[39m\u001b[38;5;124m\"\u001b[39m))\n\u001b[1;32m      2\u001b[0m clauses\u001b[38;5;241m.\u001b[39mappend(expr(\u001b[38;5;124m\"\u001b[39m\u001b[38;5;124mCountry(UK)\u001b[39m\u001b[38;5;124m\"\u001b[39m))\n",
      "\u001b[0;31mNameError\u001b[0m: name 'expr' is not defined"
     ]
    }
   ],
   "source": [
    "clauses.append(expr(\"Pri_Minister(Boris_Johnson,UK)\"))\n",
    "clauses.append(expr(\"Country(UK)\"))"
   ]
  },
  {
   "cell_type": "markdown",
   "id": "c6bd40df",
   "metadata": {},
   "source": [
    "###  Sanna Marin is the prime minister of Finland."
   ]
  },
  {
   "cell_type": "code",
   "execution_count": 285,
   "id": "b710321c",
   "metadata": {},
   "outputs": [],
   "source": [
    "clauses.append(expr(\"Pri_Minister(Sanna_Marin,Finland)\"))\n",
    "clauses.append(expr(\"Country(Finland)\"))"
   ]
  },
  {
   "cell_type": "markdown",
   "id": "d74e9674",
   "metadata": {},
   "source": [
    "### Videos of parties at the Downing Street attended by Boris Johnson were publicly leaked.\n",
    "\n",
    "* Video(x):x is Downing Street video\n",
    "* Parties(y, z):  y is Boris_Johnson,z is UK\n",
    "* Leaked(x,y,z): x at y attended by z was leaked\n",
    "---"
   ]
  },
  {
   "cell_type": "code",
   "execution_count": 286,
   "id": "11fd2792",
   "metadata": {},
   "outputs": [],
   "source": [
    "clauses.append(expr(\"Video(Downing_Street)\"))\n",
    "clauses.append(expr(\"Parties(Downing_Street,UK)\"))\n",
    "clauses.append(expr(\"Leaked(Downing_Street)\"))"
   ]
  },
  {
   "cell_type": "markdown",
   "id": "84e546de",
   "metadata": {},
   "source": [
    "### Videos of private parties attended by Sanna Miran were publicly leaked."
   ]
  },
  {
   "cell_type": "code",
   "execution_count": 287,
   "id": "348ba25c",
   "metadata": {},
   "outputs": [],
   "source": [
    "clauses.append(expr(\"Video(private_place)\"))\n",
    "clauses.append(expr(\"Parties(private_place,Finland)\"))\n",
    "clauses.append(expr(\"Leaked(private_place)\"))"
   ]
  },
  {
   "cell_type": "markdown",
   "id": "413b91ff",
   "metadata": {},
   "source": [
    "### The Downing Street parties violated Covid-19 lockdown laws.\n",
    "* Violated(x) : parties at x pkace violated Covid-19 law\n"
   ]
  },
  {
   "cell_type": "code",
   "execution_count": 288,
   "id": "8b7815bd",
   "metadata": {},
   "outputs": [],
   "source": [
    "clauses.append(expr(\"Violated(Downing_Street)\"))"
   ]
  },
  {
   "cell_type": "markdown",
   "id": "7d812d4e",
   "metadata": {},
   "source": [
    "### Social gatherings violating Covid-19 lockdown laws are illegal.\n",
    "\n",
    "* Illegal(x): x is that it is illegal has parties at x place\n"
   ]
  },
  {
   "cell_type": "code",
   "execution_count": 289,
   "id": "41d85ab4",
   "metadata": {},
   "outputs": [],
   "source": [
    "clauses.append(expr(\"Violated(x) ==> Illegal(x)\"))"
   ]
  },
  {
   "cell_type": "markdown",
   "id": "8be706fd",
   "metadata": {},
   "source": [
    "### The prime minister of a country who attends illegal parties is disapproved by the citizens of that country. \n",
    "\n",
    "\n",
    "* Disapproved(x,y,p): x in y country disapproved by p citizen\n",
    "* Citizens(en,UK): en is british, UK is a country.\n",
    "\n",
    "\n"
   ]
  },
  {
   "cell_type": "code",
   "execution_count": 290,
   "id": "5ab11736",
   "metadata": {},
   "outputs": [],
   "source": [
    "clauses.append(expr(\"Citizens(UK)\"))\n",
    "clauses.append(expr(\"Citizens(Finland)\"))"
   ]
  },
  {
   "cell_type": "code",
   "execution_count": 297,
   "id": "28f14810",
   "metadata": {},
   "outputs": [],
   "source": [
    "clauses.append(expr(\"(Pri_Minister(x,y) & Parties(z,y) & Violated(z) & Illegal(z) & Citizens(y)) \\\n",
    "==> Disapproved(x,y)\"))"
   ]
  },
  {
   "cell_type": "markdown",
   "id": "c45b039f",
   "metadata": {},
   "source": [
    "### The prime minister of a country who is disapproved by its citizens loses their trust. \n",
    "* Loss_trust(x,y):x loss trust in country y.\n",
    "---\n",
    "Pri_Minister(x,y) & Disapproved(x,y,p) ==> Loss_trust(x,y)"
   ]
  },
  {
   "cell_type": "code",
   "execution_count": 298,
   "id": "06fcb690",
   "metadata": {},
   "outputs": [],
   "source": [
    "clauses.append(expr(\"(Pri_Minister(x,y) & Disapproved(x,y,p)) ==> Loss_trust(x,y,p)\"))"
   ]
  },
  {
   "cell_type": "markdown",
   "id": "338eae37",
   "metadata": {},
   "source": [
    "#### 2\n",
    "* resign(x,y):x in y country was disapproved"
   ]
  },
  {
   "cell_type": "code",
   "execution_count": 299,
   "id": "55ee8845",
   "metadata": {},
   "outputs": [],
   "source": [
    "clauses.append(expr(\"Loss_trust(x,y,p) ==> resign(x,y)\"))"
   ]
  },
  {
   "cell_type": "code",
   "execution_count": 300,
   "id": "5a047830",
   "metadata": {},
   "outputs": [],
   "source": [
    "find_kb = FolKB(clauses)"
   ]
  },
  {
   "cell_type": "code",
   "execution_count": 301,
   "id": "ca2f5c22",
   "metadata": {},
   "outputs": [
    {
     "name": "stdout",
     "output_type": "stream",
     "text": [
      "[{x: Boris_Johnson, y: UK}]\n"
     ]
    }
   ],
   "source": [
    "answer = fol_fc_ask(find_kb, expr('Disapproved(x,y)')) \n",
    "print(list(answer))"
   ]
  },
  {
   "cell_type": "code",
   "execution_count": null,
   "id": "5b547e02",
   "metadata": {},
   "outputs": [],
   "source": []
  },
  {
   "cell_type": "code",
   "execution_count": null,
   "id": "de91e6c3",
   "metadata": {},
   "outputs": [],
   "source": []
  }
 ],
 "metadata": {
  "kernelspec": {
   "display_name": "Python 3 (ipykernel)",
   "language": "python",
   "name": "python3"
  },
  "language_info": {
   "codemirror_mode": {
    "name": "ipython",
    "version": 3
   },
   "file_extension": ".py",
   "mimetype": "text/x-python",
   "name": "python",
   "nbconvert_exporter": "python",
   "pygments_lexer": "ipython3",
   "version": "3.8.13"
  }
 },
 "nbformat": 4,
 "nbformat_minor": 5
}
